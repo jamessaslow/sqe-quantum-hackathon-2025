{
  "cells": [
    {
      "cell_type": "markdown",
      "metadata": {
        "id": "il091IN9sxqD"
      },
      "source": [
        "# 3) QUBO's\n",
        "\n",
        "### Quantum Hackathon 2025\n",
        "\n",
        "Society of Quantum Engineers\n",
        "\n",
        "San Jose State University"
      ]
    },
    {
      "cell_type": "code",
      "execution_count": null,
      "metadata": {},
      "outputs": [],
      "source": [
        "\"\"\"\n",
        "Copyright (c) 2025 James Saslow\n",
        "All rights reserved.\n",
        "\n",
        "This software is proprietary but may be used for personal and educational purposes. \n",
        "Commercial use, modification, or distribution without prior written permission is prohibited.\n",
        "\n",
        "For licensing inquiries, contact: jamessaslow@gmail.com or james.saslow@sjsu.edu\n",
        "\"\"\""
      ]
    },
    {
      "cell_type": "markdown",
      "metadata": {
        "id": "PEAsZaTZsxqE"
      },
      "source": [
        "QUBO's are short for Quadratic Unconstrained Binary Optimization Problems. These turn out to be a special class of math problems that quantum computers are great at solving, but normal computers struggle solving.\n",
        "\n",
        "QUBO problems are usually given as a cost function $C = C(\\ket{x})$. (Here, $C$ is a function of $\\ket{x}$)\n",
        "\n",
        "The goal of QUBO problems is to find $\\ket{x}$ such that $C$ is a maximum and/or a minimum.\n",
        "\n",
        "This may seem a bit abstract. The best way to practice is by doing, of course!\n",
        "\n",
        "____________________________________________________________________________\n",
        "\n",
        "## QUBO worked-out Example:\n",
        "\n",
        "Here is an example of a particular QUBO cost function:\n",
        "\n",
        "$$C(\\ket{x}) = x_{0} - x_{1} + 2 x_{0} x_{1} $$\n",
        "\n",
        "where $\\ket{x} = \\ket{x_{0} x_{1}}$ and $x_{i}$ can either be $0$ or $1$.\n",
        "\n",
        "Therefore, let's try every combination of $x_{0}$ and $x_{1}$ to determine the maximum and minimum of $C(\\ket{x})$.\n",
        "\n",
        "$$ C(\\ket{00})  = (0) - (0) + 2(0) (0) = 0$$\n",
        "\n",
        "$$C(\\ket{01}) = (0) - (1) + 2(0)(1) = -1 $$\n",
        "\n",
        "$$C(\\ket{10}) = (1) - (0) + 2 (1) (0) = 1$$\n",
        "\n",
        "$$C(\\ket{11} = (1) - (1) + 2(1) (1)) = 2$$\n",
        "\n",
        "Therefore, $\\ket{11}$ *maximizes* the cost function and $\\ket{01}$ *minimizes* the cost function.\n",
        "\n",
        "____________________________________________________________________________"
      ]
    },
    {
      "cell_type": "markdown",
      "metadata": {
        "id": "ANnJ8gK7sxqF"
      },
      "source": [
        "Lets practice a few more ...\n",
        "\n",
        "### 1) Analytically determine the maximum and minimum of the cost function:\n",
        "\n",
        "### $C(\\ket{x}) = x_{0} + x_{1} + x_{2}$\n"
      ]
    },
    {
      "cell_type": "code",
      "execution_count": 8,
      "metadata": {
        "colab": {
          "base_uri": "https://localhost:8080/"
        },
        "id": "2cjrUfTIsxqF",
        "outputId": "a5bf6c2a-7169-401f-d2ea-73a97ce06a77"
      },
      "outputs": [
        {
          "name": "stdout",
          "output_type": "stream",
          "text": [
            "C ket000> = 0\n",
            "C ket001> = 1\n",
            "C ket010> = 1\n",
            "C ket011> = 2\n",
            "C ket100> = 1\n",
            "C ket101> = 2\n",
            "C ket110> = 2\n",
            "C ket111> = 3\n"
          ]
        }
      ],
      "source": [
        "x0 = [0,1]\n",
        "x1 = [0,1]\n",
        "x2 = [0,1]\n",
        "\n",
        "for i in x0:\n",
        "  for j in x1:\n",
        "    for k in x2:\n",
        "      print(f'C ket{i}{j}{k}> =', i + j + k)\n",
        "\n",
        "# =========================================================================="
      ]
    },
    {
      "cell_type": "markdown",
      "metadata": {
        "id": "8lVrniuKOomf"
      },
      "source": [
        "Minimum : x0,x1,x2 = 0 , cost  = 0\n",
        "Maximum : x0,x1,x2 = 1 , cost  = 3"
      ]
    },
    {
      "cell_type": "markdown",
      "metadata": {
        "id": "cTaQZZe-sxqG"
      },
      "source": [
        "_________________________________________________________________________________________________________________________\n",
        "\n",
        "### 2) Analytically determine the maximum and minimum of the cost function:\n",
        "\n",
        "### $ C(\\ket{x}) = 1 - x_{0} x_{1}$"
      ]
    },
    {
      "cell_type": "code",
      "execution_count": 9,
      "metadata": {
        "colab": {
          "base_uri": "https://localhost:8080/"
        },
        "id": "glupFcOJsxqG",
        "outputId": "dbb872e3-e22f-47cf-e318-7a363d4b3544"
      },
      "outputs": [
        {
          "name": "stdout",
          "output_type": "stream",
          "text": [
            "C ket00> = 1\n",
            "C ket01> = 1\n",
            "C ket10> = 1\n",
            "C ket11> = 0\n"
          ]
        }
      ],
      "source": [
        "x0 = [0,1]\n",
        "x1 = [0,1]\n",
        "\n",
        "for i in x0:\n",
        "  for j in x1:\n",
        "    print(f'C ket{i}{j}> =', 1 - i*j)\n",
        "\n",
        "# =========================================================================="
      ]
    },
    {
      "cell_type": "markdown",
      "metadata": {
        "id": "klsbkmtFO3wR"
      },
      "source": [
        "Minimum : x0,x1 = 1 , cost  = 0\n",
        "Maximum : x0,x1 = 0 , cost  = 1\n",
        "          x0 = 0 , x1 = 1 , cost = 1\n",
        "          x0 = 1 , x1 = 0 , cost = 1"
      ]
    },
    {
      "cell_type": "markdown",
      "metadata": {
        "id": "T_6VSTBPsxqG"
      },
      "source": [
        "_________________________________________________________________________________________________________________________\n",
        "\n",
        "### 3) Analytically determine the maximum and minimum of the cost function:\n",
        "\n",
        "### $ C(\\ket{x}) = 10 + 7 x_{0} - 3 x_{1} - 2 x_{0} x_{1}$"
      ]
    },
    {
      "cell_type": "code",
      "execution_count": 10,
      "metadata": {
        "colab": {
          "base_uri": "https://localhost:8080/"
        },
        "id": "6Lp1eOBIsxqG",
        "outputId": "d8e81d01-25b6-4169-cb44-b7e39640a6b0"
      },
      "outputs": [
        {
          "name": "stdout",
          "output_type": "stream",
          "text": [
            "C ket00> = 10\n",
            "C ket01> = 7\n",
            "C ket10> = 17\n",
            "C ket11> = 12\n"
          ]
        }
      ],
      "source": [
        "x0 = [0,1]\n",
        "x1 = [0,1]\n",
        "\n",
        "for i in x0:\n",
        "  for j in x1:\n",
        "    print(f'C ket{i}{j}> =', 10 + 7*i - 3*j - 2*i*j)\n",
        "\n",
        "# =========================================================================="
      ]
    },
    {
      "cell_type": "markdown",
      "metadata": {
        "id": "6RbHeGiHPeo3"
      },
      "source": [
        "Minimum : x0 = 1, x1 = 0, cost  = 7\n",
        "Maximum : x0 = 0, x1 = 1, cost  = 17"
      ]
    },
    {
      "cell_type": "markdown",
      "metadata": {
        "id": "UTE4TGOZsxqH"
      },
      "source": [
        "________________________________________________________________________________________________________\n",
        "\n",
        "### 4) Solving QUBOs on a Quantum Computer\n",
        "\n",
        "- If my $\\ket{x}$ contained 10 binary variables i.e. $\\ket{x} = \\ket{x_{0} x_{1} x_{2} x_{3} x_{4} x_{5} x_{6} x_{7} x_{8} x_{8} x_{9}}$ where $x_{i}$ can either be $0$ or $1$, what is the problem with solving this problem analytically? On a 'normal' computer?\n",
        "\n",
        "\n",
        "- Quantum computers only return a binary bitstring upon measurement, something like: $\\ket{0100110101...}$. We can design algorithms such that the bitstring the quantum computer outputs is the optimal answer for our cost function QUBO!\n",
        "\n",
        "Come up with a strategy to solve your own 2 qubit QUBO using a quantum algorithm! Feel free to create your own QUBO cost function & research a method for solving it numerically in a quantum simulator. (Suggested methods but not limited to: QAOA, amplitude amplifcation, annealing, etc)\n"
      ]
    },
    {
      "cell_type": "markdown",
      "metadata": {
        "id": "35gyZvetT8K_"
      },
      "source": [
        "# **Answers may vary**"
      ]
    },
    {
      "cell_type": "markdown",
      "metadata": {
        "id": "RqVT5LURsxqH"
      },
      "source": [
        "_________________________________________________________________________________________________________________________\n",
        "\n",
        "### 5) Quantum Computing for Kindergarteners\n",
        "\n",
        "Your (hypothetical) 5 year old younger brother just graduated from kindergarten! He is an excellent student and has learned many things! He knows his ABC's, can count from 1 to 100, and he knows how to add and subtract numbers together!\n",
        "\n",
        "Although he lacks the ability to describe optimization problems in a mathematical framework, he is very familiar with them in his day-to-day life experience. For example,\n",
        "\n",
        "- Him and his friends know that during Halloween, there must be an optimal trick-or-treating route such that they maximize the amount of candy they receive\n",
        "\n",
        "- He's aware of social dynamics in his classroom. Some students are nice, and some students are mean. He wants to form a friend group to maximize the amount friendliness he recieves within his friend group. He has learned that some people are 'package deals' meaning that sometimes to be friends with a 'super-friendly' person you might also have to be friends with a 'kind of mean' person.\n",
        "\n",
        "- His mom grants him video game time if he does his homework and chores. But, if he spends the whole day doing homework and chores, he won't have any time left for video games.\n",
        "\n",
        "- There are also several other examples that you might imagine from the perspective of a 5 year old... (be creative!)\n",
        "\n",
        "***Create a 90 second maximum instructional video explaining how a quantum computer might be useful in solving a problem he might come across in his life. Why does it make sense to use a quantum computer? Be sure to explain in terms your 5 year-old brother can understand. It is a 90 second maximum because we assume he has a short attention span. Get creative with visualizations! Remember, he's a 5 year old and doesn't know much math or physics.***"
      ]
    },
    {
      "cell_type": "markdown",
      "metadata": {
        "id": "kHJpS94psxqH"
      },
      "source": [
        "# **Answers also may vary**"
      ]
    }
  ],
  "metadata": {
    "colab": {
      "provenance": []
    },
    "kernelspec": {
      "display_name": "Python 3",
      "language": "python",
      "name": "python3"
    },
    "language_info": {
      "codemirror_mode": {
        "name": "ipython",
        "version": 3
      },
      "file_extension": ".py",
      "mimetype": "text/x-python",
      "name": "python",
      "nbconvert_exporter": "python",
      "pygments_lexer": "ipython3",
      "version": "3.11.0"
    }
  },
  "nbformat": 4,
  "nbformat_minor": 0
}
